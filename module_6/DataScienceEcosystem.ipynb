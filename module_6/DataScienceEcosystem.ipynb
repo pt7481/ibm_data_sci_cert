{
 "cells": [
  {
   "cell_type": "markdown",
   "id": "77bf099e-ad0d-40b5-97b2-301ffe76f057",
   "metadata": {},
   "source": [
    "# Data Science Tools and Ecosystem"
   ]
  },
  {
   "cell_type": "markdown",
   "id": "6ec0879b-347e-46be-9e98-50802c742684",
   "metadata": {},
   "source": [
    "In this notebook, Data Science Tools and Ecosystem are summarized."
   ]
  },
  {
   "cell_type": "markdown",
   "id": "fa79368e-cd64-4d98-8469-11856993615d",
   "metadata": {},
   "source": [
    "**Objectives:**\n",
    "\n",
    "- List of popular languages for Data Science\n",
    "- List of commonly-used libraries for Data Science\n",
    "- Examples of Data Science Tools"
   ]
  },
  {
   "cell_type": "markdown",
   "id": "ac797133-f139-4ea7-bcc2-8326d80e8805",
   "metadata": {},
   "source": [
    "Some of the popular languages that Data Scientists use are:\n",
    "\n",
    "1. Python\n",
    "2. R\n",
    "3. SQL\n",
    "4. Java\n",
    "5. Scala\n",
    "6. Julia"
   ]
  },
  {
   "cell_type": "markdown",
   "id": "796f1856-c5f6-47a0-8eb1-9df56dcadf03",
   "metadata": {},
   "source": [
    "Some of the commonly used libraries used by Data Scientists include:\n",
    "\n",
    "1. pandas\n",
    "2. numpy\n",
    "3. sckit-learn\n",
    "4. tensorflow\n",
    "5. matplotlib"
   ]
  },
  {
   "cell_type": "markdown",
   "id": "3ca3685a-3707-4e08-aec9-8e1f316ef7b9",
   "metadata": {},
   "source": [
    "| Examples of Data Science Tools |\n",
    "| ------------------ |\n",
    "| Hadoop |\n",
    "| Hive |\n",
    "| Spark |\n",
    "| MySQL |\n",
    "| Airflow |\n",
    "| Kafka |"
   ]
  },
  {
   "cell_type": "markdown",
   "id": "fe80a9ae-79c3-4e67-bc74-a0274d25c645",
   "metadata": {},
   "source": [
    "### Below are a few examples of evaluating arithmetic expressions in Python"
   ]
  },
  {
   "cell_type": "code",
   "execution_count": 2,
   "id": "3aa42c20-8fff-4ec6-8f38-3e06a0b78e7b",
   "metadata": {},
   "outputs": [
    {
     "data": {
      "text/plain": [
       "17"
      ]
     },
     "execution_count": 2,
     "metadata": {},
     "output_type": "execute_result"
    }
   ],
   "source": [
    "# This is a simple arithmetic expression to multiply then add integers\n",
    "(3*4)+5"
   ]
  },
  {
   "cell_type": "code",
   "execution_count": 3,
   "id": "babfcbd1-6cab-4c0c-9504-42fa3e5928fb",
   "metadata": {},
   "outputs": [
    {
     "data": {
      "text/plain": [
       "3.3333333333333335"
      ]
     },
     "execution_count": 3,
     "metadata": {},
     "output_type": "execute_result"
    }
   ],
   "source": [
    "# This will convert 200 minutes to hours by dividing by 60\n",
    "(200 / 60)"
   ]
  },
  {
   "cell_type": "markdown",
   "id": "c9f83fac-bd45-4775-ab90-141fd83afd41",
   "metadata": {},
   "source": [
    "## Author\n",
    "Paul Tongyoo"
   ]
  },
  {
   "cell_type": "code",
   "execution_count": null,
   "id": "1b0b0750-4906-49f4-852d-b20978cfb786",
   "metadata": {},
   "outputs": [],
   "source": []
  }
 ],
 "metadata": {
  "kernelspec": {
   "display_name": "Python 3 (ipykernel)",
   "language": "python",
   "name": "python3"
  },
  "language_info": {
   "codemirror_mode": {
    "name": "ipython",
    "version": 3
   },
   "file_extension": ".py",
   "mimetype": "text/x-python",
   "name": "python",
   "nbconvert_exporter": "python",
   "pygments_lexer": "ipython3",
   "version": "3.12.9"
  }
 },
 "nbformat": 4,
 "nbformat_minor": 5
}
